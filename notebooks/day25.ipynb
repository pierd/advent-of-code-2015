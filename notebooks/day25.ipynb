{
 "cells": [
  {
   "cell_type": "code",
   "execution_count": 16,
   "metadata": {},
   "outputs": [
    {
     "data": {
      "text/plain": [
       "9132360"
      ]
     },
     "execution_count": 16,
     "metadata": {},
     "output_type": "execute_result"
    }
   ],
   "source": [
    "const start: u32 = 20151125;\n",
    "const multiplier: u64 = 252533;\n",
    "const modulo: u64 = 33554393;\n",
    "\n",
    "const target_row: usize = 2981;\n",
    "const target_col: usize = 3075;\n",
    "\n",
    "const target_size: usize = target_row + target_col;\n",
    "\n",
    "let mut t = vec![vec![0; target_size]; target_size];\n",
    "\n",
    "let mut next = start;\n",
    "for diag in 0..target_size {\n",
    "    for i in 0..=diag {\n",
    "        t[diag - i][i] = next;\n",
    "        next = ((next as u64 * multiplier) % modulo) as u32;\n",
    "    }\n",
    "}\n",
    "t[target_row - 1][target_col - 1]"
   ]
  }
 ],
 "metadata": {
  "kernelspec": {
   "display_name": "Rust",
   "language": "rust",
   "name": "rust"
  },
  "language_info": {
   "codemirror_mode": "rust",
   "file_extension": ".rs",
   "mimetype": "text/rust",
   "name": "rust",
   "pygment_lexer": "rust",
   "version": ""
  },
  "orig_nbformat": 4
 },
 "nbformat": 4,
 "nbformat_minor": 2
}
