{
 "cells": [
  {
   "cell_type": "code",
   "execution_count": 4,
   "metadata": {},
   "outputs": [],
   "source": [
    ":dep md5 = \"0.7.0\""
   ]
  },
  {
   "cell_type": "code",
   "execution_count": 14,
   "metadata": {},
   "outputs": [],
   "source": [
    "use md5;\n",
    "\n",
    "fn solve(key: &str) -> usize {\n",
    "    for i in 1..usize::MAX {\n",
    "        let digest = md5::compute(format!(\"{}{}\", key, i).as_bytes());\n",
    "        if digest[0] == 0 && digest[1] == 0 && digest[2] == 0 {\n",
    "            dbg!(digest);\n",
    "            return i;\n",
    "        }\n",
    "    }\n",
    "    0\n",
    "}"
   ]
  },
  {
   "cell_type": "code",
   "execution_count": 15,
   "metadata": {},
   "outputs": [
    {
     "name": "stderr",
     "output_type": "stream",
     "text": [
      "[src/lib.rs:7] digest = 000000b1b64bf5eb55aad89986126953\n"
     ]
    },
    {
     "data": {
      "text/plain": [
       "1038736"
      ]
     },
     "execution_count": 15,
     "metadata": {},
     "output_type": "execute_result"
    }
   ],
   "source": [
    "solve(\"bgvyzdsv\")"
   ]
  }
 ],
 "metadata": {
  "kernelspec": {
   "display_name": "Rust",
   "language": "rust",
   "name": "rust"
  },
  "language_info": {
   "codemirror_mode": "rust",
   "file_extension": ".rs",
   "mimetype": "text/rust",
   "name": "Rust",
   "pygment_lexer": "rust",
   "version": ""
  },
  "orig_nbformat": 4
 },
 "nbformat": 4,
 "nbformat_minor": 2
}
